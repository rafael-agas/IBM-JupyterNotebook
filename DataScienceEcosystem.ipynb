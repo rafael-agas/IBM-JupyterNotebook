{
 "cells": [
  {
   "cell_type": "markdown",
   "id": "16a8167e-c541-4b52-98ff-6e1e156d698a",
   "metadata": {},
   "source": [
    "# Data Science Tools and Ecosystem"
   ]
  },
  {
   "cell_type": "markdown",
   "id": "f4001d61-6430-4d1b-be31-77c666a1efbd",
   "metadata": {},
   "source": [
    "In this notebook, Data Science Tools and Ecosystems are summarized."
   ]
  },
  {
   "cell_type": "markdown",
   "id": "6835b3b8-8569-467d-a106-618831713617",
   "metadata": {},
   "source": [
    "**Objectives:**\n",
    "- List of popular languages for Data Science\n",
    "- List of commonly used libraries for Data Science\n",
    "- Examples of arithmetic evaluations using Python"
   ]
  },
  {
   "cell_type": "markdown",
   "id": "266e8521-8a96-4f03-ac85-a4fbd0901914",
   "metadata": {},
   "source": [
    "## Author: Rafael A."
   ]
  },
  {
   "cell_type": "markdown",
   "id": "9194ae14-161d-46e8-b089-c3e30b6fca3a",
   "metadata": {},
   "source": [
    "Some of the popular languages that Data Scientists use are:\n",
    "\n",
    "1. Python\n",
    "2. Julia\n",
    "3. R\n",
    "4. Scala\n",
    "5. Java\n",
    "6. SQL"
   ]
  },
  {
   "cell_type": "markdown",
   "id": "c26c6a2b-eafe-4c2f-89a0-72d51f0fc15c",
   "metadata": {},
   "source": [
    "Some of the commonly used libraries used by Data Scientists include:\n",
    "\n",
    "1. Pandas\n",
    "2. Numpy\n",
    "3. Stringr\n",
    "4. Dplyr\n",
    "5. Matplotlib\n",
    "6. TensorFlow\n",
    "7. Plotly"
   ]
  },
  {
   "cell_type": "markdown",
   "id": "64558cec-2d18-4d8f-a35d-b4941fd29b1b",
   "metadata": {},
   "source": [
    "| Data Science Tools |\n",
    "|:------------------:|\n",
    "| Visual Studio Code |\n",
    "|      R Studio      |\n",
    "|  Jupyter Notebooks |"
   ]
  },
  {
   "cell_type": "markdown",
   "id": "fb6cdc9a-f5b1-497b-83bc-613a7a84742b",
   "metadata": {},
   "source": [
    "### Below are a few examples of evaluating arithmetic expressions in Python."
   ]
  },
  {
   "cell_type": "code",
   "execution_count": 1,
   "id": "29ae154a-49a8-4f14-8620-d956e1d0820b",
   "metadata": {
    "tags": []
   },
   "outputs": [
    {
     "data": {
      "text/plain": [
       "17"
      ]
     },
     "execution_count": 1,
     "metadata": {},
     "output_type": "execute_result"
    }
   ],
   "source": [
    "# This simple arithmetic expression is to multiply then add\n",
    "(3*4)+5"
   ]
  },
  {
   "cell_type": "code",
   "execution_count": 2,
   "id": "df84ee7d-7426-4d86-b5e9-8adbf66c645c",
   "metadata": {
    "tags": []
   },
   "outputs": [
    {
     "data": {
      "text/plain": [
       "3.3333333333333335"
      ]
     },
     "execution_count": 2,
     "metadata": {},
     "output_type": "execute_result"
    }
   ],
   "source": [
    "# This will convert 200 minutes to hours by dividing by 60\n",
    "200 / 60"
   ]
  },
  {
   "cell_type": "markdown",
   "id": "bcc94215-61c7-4cf7-81a7-cac17332aee3",
   "metadata": {},
   "source": []
  }
 ],
 "metadata": {
  "kernelspec": {
   "display_name": "Python",
   "language": "python",
   "name": "conda-env-python-py"
  },
  "language_info": {
   "codemirror_mode": {
    "name": "ipython",
    "version": 3
   },
   "file_extension": ".py",
   "mimetype": "text/x-python",
   "name": "python",
   "nbconvert_exporter": "python",
   "pygments_lexer": "ipython3",
   "version": "3.7.12"
  }
 },
 "nbformat": 4,
 "nbformat_minor": 5
}
